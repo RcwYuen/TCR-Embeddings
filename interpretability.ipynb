{
 "cells": [
  {
   "cell_type": "code",
   "execution_count": 12,
   "metadata": {},
   "outputs": [
    {
     "data": {
      "application/vnd.jupyter.widget-view+json": {
       "model_id": "d4308f4e53c34c3e86de36257a1939f3",
       "version_major": 2,
       "version_minor": 0
      },
      "text/plain": [
       "complete\\sceptr-default-autoencoder-0\\kfold-0; Progress: 56/125:   0%|          | 0/29 [00:00<?, ?it/s]"
      ]
     },
     "metadata": {},
     "output_type": "display_data"
    },
    {
     "data": {
      "application/vnd.jupyter.widget-view+json": {
       "model_id": "09a7e46d71d142d0aaa92cc5e06831b5",
       "version_major": 2,
       "version_minor": 0
      },
      "text/plain": [
       "complete\\sceptr-default-autoencoder-0\\kfold-1; Progress: 57/125:   0%|          | 0/29 [00:00<?, ?it/s]"
      ]
     },
     "metadata": {},
     "output_type": "display_data"
    },
    {
     "data": {
      "application/vnd.jupyter.widget-view+json": {
       "model_id": "859f48fec57d4ac38d18dd7288e1369d",
       "version_major": 2,
       "version_minor": 0
      },
      "text/plain": [
       "complete\\sceptr-default-autoencoder-0\\kfold-2; Progress: 58/125:   0%|          | 0/29 [00:00<?, ?it/s]"
      ]
     },
     "metadata": {},
     "output_type": "display_data"
    },
    {
     "data": {
      "application/vnd.jupyter.widget-view+json": {
       "model_id": "413b474454e146bf8c29b0189d927e0a",
       "version_major": 2,
       "version_minor": 0
      },
      "text/plain": [
       "complete\\sceptr-default-autoencoder-0\\kfold-3; Progress: 59/125:   0%|          | 0/29 [00:00<?, ?it/s]"
      ]
     },
     "metadata": {},
     "output_type": "display_data"
    },
    {
     "data": {
      "application/vnd.jupyter.widget-view+json": {
       "model_id": "d3d9da536cb5461681d1388c67e8088a",
       "version_major": 2,
       "version_minor": 0
      },
      "text/plain": [
       "complete\\sceptr-default-autoencoder-0\\kfold-4; Progress: 60/125:   0%|          | 0/24 [00:00<?, ?it/s]"
      ]
     },
     "metadata": {},
     "output_type": "display_data"
    },
    {
     "data": {
      "application/vnd.jupyter.widget-view+json": {
       "model_id": "70c0e38d1cc44b6b82b6756f67dd076b",
       "version_major": 2,
       "version_minor": 0
      },
      "text/plain": [
       "complete\\sceptr-default-no-reduction\\kfold-0; Progress: 61/125:   0%|          | 0/29 [00:00<?, ?it/s]"
      ]
     },
     "metadata": {},
     "output_type": "display_data"
    },
    {
     "data": {
      "application/vnd.jupyter.widget-view+json": {
       "model_id": "bfe9eeefa60548b0a87199cf952dbfe2",
       "version_major": 2,
       "version_minor": 0
      },
      "text/plain": [
       "complete\\sceptr-default-no-reduction\\kfold-1; Progress: 62/125:   0%|          | 0/29 [00:00<?, ?it/s]"
      ]
     },
     "metadata": {},
     "output_type": "display_data"
    },
    {
     "data": {
      "application/vnd.jupyter.widget-view+json": {
       "model_id": "9a670c876872418f82e2fa08231df0e2",
       "version_major": 2,
       "version_minor": 0
      },
      "text/plain": [
       "complete\\sceptr-default-no-reduction\\kfold-2; Progress: 63/125:   0%|          | 0/29 [00:00<?, ?it/s]"
      ]
     },
     "metadata": {},
     "output_type": "display_data"
    },
    {
     "data": {
      "application/vnd.jupyter.widget-view+json": {
       "model_id": "f427050bc05d44c182825876a0de84de",
       "version_major": 2,
       "version_minor": 0
      },
      "text/plain": [
       "complete\\sceptr-default-no-reduction\\kfold-3; Progress: 64/125:   0%|          | 0/29 [00:00<?, ?it/s]"
      ]
     },
     "metadata": {},
     "output_type": "display_data"
    },
    {
     "data": {
      "application/vnd.jupyter.widget-view+json": {
       "model_id": "2a1725eb261c49559d388fe2e80b5649",
       "version_major": 2,
       "version_minor": 0
      },
      "text/plain": [
       "complete\\sceptr-default-no-reduction\\kfold-4; Progress: 65/125:   0%|          | 0/24 [00:00<?, ?it/s]"
      ]
     },
     "metadata": {},
     "output_type": "display_data"
    },
    {
     "data": {
      "application/vnd.jupyter.widget-view+json": {
       "model_id": "5d94c01034a945cb9ecb6da0c5135787",
       "version_major": 2,
       "version_minor": 0
      },
      "text/plain": [
       "complete\\sceptr-tiny-autoencoder\\kfold-0; Progress: 66/125:   0%|          | 0/29 [00:00<?, ?it/s]"
      ]
     },
     "metadata": {},
     "output_type": "display_data"
    },
    {
     "data": {
      "application/vnd.jupyter.widget-view+json": {
       "model_id": "4f8bfec6210c4efda416376e1dc2788b",
       "version_major": 2,
       "version_minor": 0
      },
      "text/plain": [
       "complete\\sceptr-tiny-autoencoder\\kfold-1; Progress: 67/125:   0%|          | 0/29 [00:00<?, ?it/s]"
      ]
     },
     "metadata": {},
     "output_type": "display_data"
    },
    {
     "data": {
      "application/vnd.jupyter.widget-view+json": {
       "model_id": "8cb55c1be9dc45d58f8746ca9d5f7bfd",
       "version_major": 2,
       "version_minor": 0
      },
      "text/plain": [
       "complete\\sceptr-tiny-autoencoder\\kfold-2; Progress: 68/125:   0%|          | 0/29 [00:00<?, ?it/s]"
      ]
     },
     "metadata": {},
     "output_type": "display_data"
    },
    {
     "data": {
      "application/vnd.jupyter.widget-view+json": {
       "model_id": "607994566b6049a3988fb9cd8eab1d33",
       "version_major": 2,
       "version_minor": 0
      },
      "text/plain": [
       "complete\\sceptr-tiny-autoencoder\\kfold-3; Progress: 69/125:   0%|          | 0/29 [00:00<?, ?it/s]"
      ]
     },
     "metadata": {},
     "output_type": "display_data"
    },
    {
     "data": {
      "application/vnd.jupyter.widget-view+json": {
       "model_id": "27b4e9e02d204c778d012097b2a79788",
       "version_major": 2,
       "version_minor": 0
      },
      "text/plain": [
       "complete\\sceptr-tiny-autoencoder\\kfold-4; Progress: 70/125:   0%|          | 0/24 [00:00<?, ?it/s]"
      ]
     },
     "metadata": {},
     "output_type": "display_data"
    },
    {
     "data": {
      "application/vnd.jupyter.widget-view+json": {
       "model_id": "42eaa98febeb4fc8a0bd09c0a6c0f2ae",
       "version_major": 2,
       "version_minor": 0
      },
      "text/plain": [
       "complete\\sceptr-tiny-no-reduction\\kfold-0; Progress: 71/125:   0%|          | 0/29 [00:00<?, ?it/s]"
      ]
     },
     "metadata": {},
     "output_type": "display_data"
    },
    {
     "data": {
      "application/vnd.jupyter.widget-view+json": {
       "model_id": "0dad756d2c4b416c99583c53b73e353e",
       "version_major": 2,
       "version_minor": 0
      },
      "text/plain": [
       "complete\\sceptr-tiny-no-reduction\\kfold-1; Progress: 72/125:   0%|          | 0/29 [00:00<?, ?it/s]"
      ]
     },
     "metadata": {},
     "output_type": "display_data"
    },
    {
     "data": {
      "application/vnd.jupyter.widget-view+json": {
       "model_id": "ca9f1a6aeee449daabcfd6123d2e7725",
       "version_major": 2,
       "version_minor": 0
      },
      "text/plain": [
       "complete\\sceptr-tiny-no-reduction\\kfold-2; Progress: 73/125:   0%|          | 0/29 [00:00<?, ?it/s]"
      ]
     },
     "metadata": {},
     "output_type": "display_data"
    },
    {
     "data": {
      "application/vnd.jupyter.widget-view+json": {
       "model_id": "44f4626aeff545ed8c090e58ea854736",
       "version_major": 2,
       "version_minor": 0
      },
      "text/plain": [
       "complete\\sceptr-tiny-no-reduction\\kfold-3; Progress: 74/125:   0%|          | 0/29 [00:00<?, ?it/s]"
      ]
     },
     "metadata": {},
     "output_type": "display_data"
    },
    {
     "data": {
      "application/vnd.jupyter.widget-view+json": {
       "model_id": "a8942ac718ec40b4af3b058bb3814bc5",
       "version_major": 2,
       "version_minor": 0
      },
      "text/plain": [
       "complete\\sceptr-tiny-no-reduction\\kfold-4; Progress: 75/125:   0%|          | 0/24 [00:00<?, ?it/s]"
      ]
     },
     "metadata": {},
     "output_type": "display_data"
    },
    {
     "data": {
      "application/vnd.jupyter.widget-view+json": {
       "model_id": "1a9f65eaae704d6cbe43aa150e1fda83",
       "version_major": 2,
       "version_minor": 0
      },
      "text/plain": [
       "kidera-autoencoder\\kfold-0; Progress: 76/125:   0%|          | 0/29 [00:00<?, ?it/s]"
      ]
     },
     "metadata": {},
     "output_type": "display_data"
    },
    {
     "data": {
      "application/vnd.jupyter.widget-view+json": {
       "model_id": "921454913ade4290b65d9a8b7fcde03c",
       "version_major": 2,
       "version_minor": 0
      },
      "text/plain": [
       "kidera-autoencoder\\kfold-1; Progress: 77/125:   0%|          | 0/29 [00:00<?, ?it/s]"
      ]
     },
     "metadata": {},
     "output_type": "display_data"
    },
    {
     "data": {
      "application/vnd.jupyter.widget-view+json": {
       "model_id": "a1a78142997242d890b6351dee66ca54",
       "version_major": 2,
       "version_minor": 0
      },
      "text/plain": [
       "kidera-autoencoder\\kfold-2; Progress: 78/125:   0%|          | 0/29 [00:00<?, ?it/s]"
      ]
     },
     "metadata": {},
     "output_type": "display_data"
    },
    {
     "data": {
      "application/vnd.jupyter.widget-view+json": {
       "model_id": "3f8d754a4fc3428dbfca55014407bed1",
       "version_major": 2,
       "version_minor": 0
      },
      "text/plain": [
       "kidera-autoencoder\\kfold-3; Progress: 79/125:   0%|          | 0/29 [00:00<?, ?it/s]"
      ]
     },
     "metadata": {},
     "output_type": "display_data"
    },
    {
     "data": {
      "application/vnd.jupyter.widget-view+json": {
       "model_id": "4c1b5ecdd09e4c35a5c3a3e364eef3b2",
       "version_major": 2,
       "version_minor": 0
      },
      "text/plain": [
       "kidera-autoencoder\\kfold-4; Progress: 80/125:   0%|          | 0/24 [00:00<?, ?it/s]"
      ]
     },
     "metadata": {},
     "output_type": "display_data"
    },
    {
     "data": {
      "application/vnd.jupyter.widget-view+json": {
       "model_id": "528d9e2d00b34a9bb42c5db088c9051e",
       "version_major": 2,
       "version_minor": 0
      },
      "text/plain": [
       "kidera-johnson-lindenstarauss\\kfold-0; Progress: 81/125:   0%|          | 0/29 [00:00<?, ?it/s]"
      ]
     },
     "metadata": {},
     "output_type": "display_data"
    },
    {
     "data": {
      "application/vnd.jupyter.widget-view+json": {
       "model_id": "10f239b671814082a7d38f93eb2ca89c",
       "version_major": 2,
       "version_minor": 0
      },
      "text/plain": [
       "kidera-johnson-lindenstarauss\\kfold-1; Progress: 82/125:   0%|          | 0/29 [00:00<?, ?it/s]"
      ]
     },
     "metadata": {},
     "output_type": "display_data"
    },
    {
     "data": {
      "application/vnd.jupyter.widget-view+json": {
       "model_id": "b9c2903e6b67449a961c18221d05be5f",
       "version_major": 2,
       "version_minor": 0
      },
      "text/plain": [
       "kidera-johnson-lindenstarauss\\kfold-2; Progress: 83/125:   0%|          | 0/29 [00:00<?, ?it/s]"
      ]
     },
     "metadata": {},
     "output_type": "display_data"
    },
    {
     "data": {
      "application/vnd.jupyter.widget-view+json": {
       "model_id": "0368641b5f504133ae56e352a6753904",
       "version_major": 2,
       "version_minor": 0
      },
      "text/plain": [
       "kidera-johnson-lindenstarauss\\kfold-3; Progress: 84/125:   0%|          | 0/29 [00:00<?, ?it/s]"
      ]
     },
     "metadata": {},
     "output_type": "display_data"
    },
    {
     "data": {
      "application/vnd.jupyter.widget-view+json": {
       "model_id": "e945b3fe83d04f0b8b18219b1c507df0",
       "version_major": 2,
       "version_minor": 0
      },
      "text/plain": [
       "kidera-johnson-lindenstarauss\\kfold-4; Progress: 85/125:   0%|          | 0/24 [00:00<?, ?it/s]"
      ]
     },
     "metadata": {},
     "output_type": "display_data"
    },
    {
     "data": {
      "application/vnd.jupyter.widget-view+json": {
       "model_id": "a5b29672090e4f1baffe9f2473e77850",
       "version_major": 2,
       "version_minor": 0
      },
      "text/plain": [
       "kidera-no-reduction\\kfold-0; Progress: 86/125:   0%|          | 0/29 [00:00<?, ?it/s]"
      ]
     },
     "metadata": {},
     "output_type": "display_data"
    },
    {
     "data": {
      "application/vnd.jupyter.widget-view+json": {
       "model_id": "55aaff2e0f824125abc8a3b5d83939f7",
       "version_major": 2,
       "version_minor": 0
      },
      "text/plain": [
       "kidera-no-reduction\\kfold-1; Progress: 87/125:   0%|          | 0/29 [00:00<?, ?it/s]"
      ]
     },
     "metadata": {},
     "output_type": "display_data"
    },
    {
     "data": {
      "application/vnd.jupyter.widget-view+json": {
       "model_id": "668c049330bf4716acd04dd79542d2cc",
       "version_major": 2,
       "version_minor": 0
      },
      "text/plain": [
       "kidera-no-reduction\\kfold-2; Progress: 88/125:   0%|          | 0/29 [00:00<?, ?it/s]"
      ]
     },
     "metadata": {},
     "output_type": "display_data"
    },
    {
     "data": {
      "application/vnd.jupyter.widget-view+json": {
       "model_id": "872191aaa0754a78945aa65012da9f81",
       "version_major": 2,
       "version_minor": 0
      },
      "text/plain": [
       "kidera-no-reduction\\kfold-3; Progress: 89/125:   0%|          | 0/29 [00:00<?, ?it/s]"
      ]
     },
     "metadata": {},
     "output_type": "display_data"
    },
    {
     "data": {
      "application/vnd.jupyter.widget-view+json": {
       "model_id": "db124258f95547f1ba2f8f2a4f19c0dc",
       "version_major": 2,
       "version_minor": 0
      },
      "text/plain": [
       "kidera-no-reduction\\kfold-4; Progress: 90/125:   0%|          | 0/24 [00:00<?, ?it/s]"
      ]
     },
     "metadata": {},
     "output_type": "display_data"
    },
    {
     "data": {
      "application/vnd.jupyter.widget-view+json": {
       "model_id": "11de7fbb0b3a4318b2ac770104318ef5",
       "version_major": 2,
       "version_minor": 0
      },
      "text/plain": [
       "rand-no-reduction\\kfold-0; Progress: 91/125:   0%|          | 0/29 [00:00<?, ?it/s]"
      ]
     },
     "metadata": {},
     "output_type": "display_data"
    },
    {
     "data": {
      "application/vnd.jupyter.widget-view+json": {
       "model_id": "ae2c690ff69c498a9a1cd979c9a3eb3f",
       "version_major": 2,
       "version_minor": 0
      },
      "text/plain": [
       "rand-no-reduction\\kfold-1; Progress: 92/125:   0%|          | 0/29 [00:00<?, ?it/s]"
      ]
     },
     "metadata": {},
     "output_type": "display_data"
    },
    {
     "data": {
      "application/vnd.jupyter.widget-view+json": {
       "model_id": "162f5702d96b43d08a75153242f07521",
       "version_major": 2,
       "version_minor": 0
      },
      "text/plain": [
       "rand-no-reduction\\kfold-2; Progress: 93/125:   0%|          | 0/29 [00:00<?, ?it/s]"
      ]
     },
     "metadata": {},
     "output_type": "display_data"
    },
    {
     "data": {
      "application/vnd.jupyter.widget-view+json": {
       "model_id": "85a21346d9f0434db8c1e86bb5de01d2",
       "version_major": 2,
       "version_minor": 0
      },
      "text/plain": [
       "rand-no-reduction\\kfold-3; Progress: 94/125:   0%|          | 0/29 [00:00<?, ?it/s]"
      ]
     },
     "metadata": {},
     "output_type": "display_data"
    },
    {
     "data": {
      "application/vnd.jupyter.widget-view+json": {
       "model_id": "c8216e4e1d5e40bdb2d5f86cf35d3654",
       "version_major": 2,
       "version_minor": 0
      },
      "text/plain": [
       "rand-no-reduction\\kfold-4; Progress: 95/125:   0%|          | 0/24 [00:00<?, ?it/s]"
      ]
     },
     "metadata": {},
     "output_type": "display_data"
    },
    {
     "data": {
      "application/vnd.jupyter.widget-view+json": {
       "model_id": "867f542a4c44455ba3a8ec19fab6ccf5",
       "version_major": 2,
       "version_minor": 0
      },
      "text/plain": [
       "sceptr-default-autoencoder\\kfold-0; Progress: 96/125:   0%|          | 0/29 [00:00<?, ?it/s]"
      ]
     },
     "metadata": {},
     "output_type": "display_data"
    },
    {
     "data": {
      "application/vnd.jupyter.widget-view+json": {
       "model_id": "4c028baee15b4f7999fa383d09fc71c3",
       "version_major": 2,
       "version_minor": 0
      },
      "text/plain": [
       "sceptr-default-autoencoder\\kfold-1; Progress: 97/125:   0%|          | 0/29 [00:00<?, ?it/s]"
      ]
     },
     "metadata": {},
     "output_type": "display_data"
    },
    {
     "data": {
      "application/vnd.jupyter.widget-view+json": {
       "model_id": "3e7f7513cb5c4e46b31fcde7858d6b1e",
       "version_major": 2,
       "version_minor": 0
      },
      "text/plain": [
       "sceptr-default-autoencoder\\kfold-2; Progress: 98/125:   0%|          | 0/29 [00:00<?, ?it/s]"
      ]
     },
     "metadata": {},
     "output_type": "display_data"
    },
    {
     "data": {
      "application/vnd.jupyter.widget-view+json": {
       "model_id": "a059d0357b8442bba23b1f01f2d0abe2",
       "version_major": 2,
       "version_minor": 0
      },
      "text/plain": [
       "sceptr-default-autoencoder\\kfold-3; Progress: 99/125:   0%|          | 0/29 [00:00<?, ?it/s]"
      ]
     },
     "metadata": {},
     "output_type": "display_data"
    },
    {
     "data": {
      "application/vnd.jupyter.widget-view+json": {
       "model_id": "ebcf9ed5b9bf405eb909078dbc4f2f6c",
       "version_major": 2,
       "version_minor": 0
      },
      "text/plain": [
       "sceptr-default-autoencoder\\kfold-4; Progress: 100/125:   0%|          | 0/24 [00:00<?, ?it/s]"
      ]
     },
     "metadata": {},
     "output_type": "display_data"
    },
    {
     "data": {
      "application/vnd.jupyter.widget-view+json": {
       "model_id": "4f9c6951b8a04a7587a33da96905e95d",
       "version_major": 2,
       "version_minor": 0
      },
      "text/plain": [
       "sceptr-default-johnson-lindenstarauss\\kfold-0; Progress: 101/125:   0%|          | 0/29 [00:00<?, ?it/s]"
      ]
     },
     "metadata": {},
     "output_type": "display_data"
    },
    {
     "data": {
      "application/vnd.jupyter.widget-view+json": {
       "model_id": "23f1dc780b1a48aab3cf301005359e35",
       "version_major": 2,
       "version_minor": 0
      },
      "text/plain": [
       "sceptr-default-johnson-lindenstarauss\\kfold-1; Progress: 102/125:   0%|          | 0/29 [00:00<?, ?it/s]"
      ]
     },
     "metadata": {},
     "output_type": "display_data"
    },
    {
     "data": {
      "application/vnd.jupyter.widget-view+json": {
       "model_id": "323f9b3a16364bc1b8ebb74d13658ffa",
       "version_major": 2,
       "version_minor": 0
      },
      "text/plain": [
       "sceptr-default-johnson-lindenstarauss\\kfold-2; Progress: 103/125:   0%|          | 0/29 [00:00<?, ?it/s]"
      ]
     },
     "metadata": {},
     "output_type": "display_data"
    },
    {
     "data": {
      "application/vnd.jupyter.widget-view+json": {
       "model_id": "90215ed9be56497a9f9e453dac7c7b0c",
       "version_major": 2,
       "version_minor": 0
      },
      "text/plain": [
       "sceptr-default-johnson-lindenstarauss\\kfold-3; Progress: 104/125:   0%|          | 0/29 [00:00<?, ?it/s]"
      ]
     },
     "metadata": {},
     "output_type": "display_data"
    },
    {
     "data": {
      "application/vnd.jupyter.widget-view+json": {
       "model_id": "7451f2d682be4e8eb1c38f15e0437025",
       "version_major": 2,
       "version_minor": 0
      },
      "text/plain": [
       "sceptr-default-johnson-lindenstarauss\\kfold-4; Progress: 105/125:   0%|          | 0/24 [00:00<?, ?it/s]"
      ]
     },
     "metadata": {},
     "output_type": "display_data"
    },
    {
     "data": {
      "application/vnd.jupyter.widget-view+json": {
       "model_id": "c44644b953404c05a0c570a70a40720d",
       "version_major": 2,
       "version_minor": 0
      },
      "text/plain": [
       "sceptr-default-no-reduction\\kfold-0; Progress: 106/125:   0%|          | 0/29 [00:00<?, ?it/s]"
      ]
     },
     "metadata": {},
     "output_type": "display_data"
    },
    {
     "data": {
      "application/vnd.jupyter.widget-view+json": {
       "model_id": "6c53a053931d4d08901ae9bc82ba3996",
       "version_major": 2,
       "version_minor": 0
      },
      "text/plain": [
       "sceptr-default-no-reduction\\kfold-1; Progress: 107/125:   0%|          | 0/29 [00:00<?, ?it/s]"
      ]
     },
     "metadata": {},
     "output_type": "display_data"
    },
    {
     "data": {
      "application/vnd.jupyter.widget-view+json": {
       "model_id": "8bf67a269c934f938399a67e2fdf37a7",
       "version_major": 2,
       "version_minor": 0
      },
      "text/plain": [
       "sceptr-default-no-reduction\\kfold-2; Progress: 108/125:   0%|          | 0/29 [00:00<?, ?it/s]"
      ]
     },
     "metadata": {},
     "output_type": "display_data"
    },
    {
     "data": {
      "application/vnd.jupyter.widget-view+json": {
       "model_id": "c0db354b656042cb9de3072e207a8e58",
       "version_major": 2,
       "version_minor": 0
      },
      "text/plain": [
       "sceptr-default-no-reduction\\kfold-3; Progress: 109/125:   0%|          | 0/29 [00:00<?, ?it/s]"
      ]
     },
     "metadata": {},
     "output_type": "display_data"
    },
    {
     "data": {
      "application/vnd.jupyter.widget-view+json": {
       "model_id": "5eacd21484a849808f53e578a8bf617d",
       "version_major": 2,
       "version_minor": 0
      },
      "text/plain": [
       "sceptr-default-no-reduction\\kfold-4; Progress: 110/125:   0%|          | 0/24 [00:00<?, ?it/s]"
      ]
     },
     "metadata": {},
     "output_type": "display_data"
    },
    {
     "data": {
      "application/vnd.jupyter.widget-view+json": {
       "model_id": "be7af4cc7b1745e0b2cac8bd64480b46",
       "version_major": 2,
       "version_minor": 0
      },
      "text/plain": [
       "sceptr-tiny-autoencoder\\kfold-0; Progress: 111/125:   0%|          | 0/29 [00:00<?, ?it/s]"
      ]
     },
     "metadata": {},
     "output_type": "display_data"
    },
    {
     "data": {
      "application/vnd.jupyter.widget-view+json": {
       "model_id": "33f9c3356f8e4b24a73cd7db108ad30b",
       "version_major": 2,
       "version_minor": 0
      },
      "text/plain": [
       "sceptr-tiny-autoencoder\\kfold-1; Progress: 112/125:   0%|          | 0/29 [00:00<?, ?it/s]"
      ]
     },
     "metadata": {},
     "output_type": "display_data"
    },
    {
     "data": {
      "application/vnd.jupyter.widget-view+json": {
       "model_id": "726744711c7847c99bd9bbed9ed21f56",
       "version_major": 2,
       "version_minor": 0
      },
      "text/plain": [
       "sceptr-tiny-autoencoder\\kfold-2; Progress: 113/125:   0%|          | 0/29 [00:00<?, ?it/s]"
      ]
     },
     "metadata": {},
     "output_type": "display_data"
    },
    {
     "data": {
      "application/vnd.jupyter.widget-view+json": {
       "model_id": "330b3ca1d3ce4811bb0202676067d57e",
       "version_major": 2,
       "version_minor": 0
      },
      "text/plain": [
       "sceptr-tiny-autoencoder\\kfold-3; Progress: 114/125:   0%|          | 0/29 [00:00<?, ?it/s]"
      ]
     },
     "metadata": {},
     "output_type": "display_data"
    },
    {
     "data": {
      "application/vnd.jupyter.widget-view+json": {
       "model_id": "0d0b875d3b3946fdb14f4c650855cf51",
       "version_major": 2,
       "version_minor": 0
      },
      "text/plain": [
       "sceptr-tiny-autoencoder\\kfold-4; Progress: 115/125:   0%|          | 0/24 [00:00<?, ?it/s]"
      ]
     },
     "metadata": {},
     "output_type": "display_data"
    },
    {
     "data": {
      "application/vnd.jupyter.widget-view+json": {
       "model_id": "6d4e13987c9b43caa7fd85f6d068d23d",
       "version_major": 2,
       "version_minor": 0
      },
      "text/plain": [
       "sceptr-tiny-johnson-lindenstarauss\\kfold-0; Progress: 116/125:   0%|          | 0/29 [00:00<?, ?it/s]"
      ]
     },
     "metadata": {},
     "output_type": "display_data"
    },
    {
     "data": {
      "application/vnd.jupyter.widget-view+json": {
       "model_id": "b00ce3436552455ea624b520453c41c4",
       "version_major": 2,
       "version_minor": 0
      },
      "text/plain": [
       "sceptr-tiny-johnson-lindenstarauss\\kfold-1; Progress: 117/125:   0%|          | 0/29 [00:00<?, ?it/s]"
      ]
     },
     "metadata": {},
     "output_type": "display_data"
    },
    {
     "data": {
      "application/vnd.jupyter.widget-view+json": {
       "model_id": "cc1eaadbdc454c699519e27b87549e12",
       "version_major": 2,
       "version_minor": 0
      },
      "text/plain": [
       "sceptr-tiny-johnson-lindenstarauss\\kfold-2; Progress: 118/125:   0%|          | 0/29 [00:00<?, ?it/s]"
      ]
     },
     "metadata": {},
     "output_type": "display_data"
    },
    {
     "data": {
      "application/vnd.jupyter.widget-view+json": {
       "model_id": "1248ca5ed16e405b98e9ca74e3f39d3d",
       "version_major": 2,
       "version_minor": 0
      },
      "text/plain": [
       "sceptr-tiny-johnson-lindenstarauss\\kfold-3; Progress: 119/125:   0%|          | 0/29 [00:00<?, ?it/s]"
      ]
     },
     "metadata": {},
     "output_type": "display_data"
    },
    {
     "data": {
      "application/vnd.jupyter.widget-view+json": {
       "model_id": "bba5a6b02b214fcd87598909702fc343",
       "version_major": 2,
       "version_minor": 0
      },
      "text/plain": [
       "sceptr-tiny-johnson-lindenstarauss\\kfold-4; Progress: 120/125:   0%|          | 0/24 [00:00<?, ?it/s]"
      ]
     },
     "metadata": {},
     "output_type": "display_data"
    },
    {
     "data": {
      "application/vnd.jupyter.widget-view+json": {
       "model_id": "1dc24a0586c04765b7e016df42eab4ff",
       "version_major": 2,
       "version_minor": 0
      },
      "text/plain": [
       "sceptr-tiny-no-reduction\\kfold-0; Progress: 121/125:   0%|          | 0/29 [00:00<?, ?it/s]"
      ]
     },
     "metadata": {},
     "output_type": "display_data"
    },
    {
     "data": {
      "application/vnd.jupyter.widget-view+json": {
       "model_id": "3b884b39740f428f9c8b5d1b0fbb6970",
       "version_major": 2,
       "version_minor": 0
      },
      "text/plain": [
       "sceptr-tiny-no-reduction\\kfold-1; Progress: 122/125:   0%|          | 0/29 [00:00<?, ?it/s]"
      ]
     },
     "metadata": {},
     "output_type": "display_data"
    },
    {
     "data": {
      "application/vnd.jupyter.widget-view+json": {
       "model_id": "6e79865a60db477c93d14c33cd6cd157",
       "version_major": 2,
       "version_minor": 0
      },
      "text/plain": [
       "sceptr-tiny-no-reduction\\kfold-2; Progress: 123/125:   0%|          | 0/29 [00:00<?, ?it/s]"
      ]
     },
     "metadata": {},
     "output_type": "display_data"
    },
    {
     "data": {
      "application/vnd.jupyter.widget-view+json": {
       "model_id": "ecb360c39858475987e0ac1d5a5d2a6c",
       "version_major": 2,
       "version_minor": 0
      },
      "text/plain": [
       "sceptr-tiny-no-reduction\\kfold-3; Progress: 124/125:   0%|          | 0/29 [00:00<?, ?it/s]"
      ]
     },
     "metadata": {},
     "output_type": "display_data"
    },
    {
     "data": {
      "application/vnd.jupyter.widget-view+json": {
       "model_id": "95620ab049934aa9b3b584a1af2be00d",
       "version_major": 2,
       "version_minor": 0
      },
      "text/plain": [
       "sceptr-tiny-no-reduction\\kfold-4; Progress: 125/125:   0%|          | 0/24 [00:00<?, ?it/s]"
      ]
     },
     "metadata": {},
     "output_type": "display_data"
    }
   ],
   "source": [
    "import sys\n",
    "sys.path.append(\"C:/Users/rcwyuen/OneDrive/Studies/UCL/Publications/TCR-Embeddings\")\n",
    "\n",
    "from pathlib import Path\n",
    "from sklearn.metrics import roc_auc_score\n",
    "import pandas as pd\n",
    "import training.models as model\n",
    "import reduction.reduction as reducer\n",
    "import torch\n",
    "import os\n",
    "from tqdm.notebook import tqdm\n",
    "import re\n",
    "\n",
    "use_cuda = False\n",
    "data_src = \"results/\"\n",
    "src = Path(\"C:/Users/rcwyuen/OneDrive/Studies/UCL/Publications/TCR-Embeddings\")\n",
    "\n",
    "def read_kfold_set(pth, label):\n",
    "    with open(pth, \"r\") as f:\n",
    "        kf = f.readlines()\n",
    "        assert len(kf) == 1\n",
    "        return [(file, label) for file in kf[0].split(\"<>\")]\n",
    "\n",
    "def find_best_epoch(pth):\n",
    "    '''\n",
    "    Priority is given to high AUC > high epoch counts.\n",
    "    '''\n",
    "    ls_aucs = []\n",
    "\n",
    "    for epoch in pth.glob(\"Epoch */test-records.csv\"):\n",
    "        df_test_records = pd.read_csv(epoch)\n",
    "        ls_aucs.append((\n",
    "            int(epoch.parent.name.replace(\"Epoch \", \"\")),\n",
    "            roc_auc_score(df_test_records[\"actual\"], df_test_records[\"pred\"])\n",
    "        ))\n",
    "\n",
    "    return max(ls_aucs[::-1], key = lambda x: x[1])\n",
    "\n",
    "def method_name_to_func(method_name):\n",
    "    if method_name == \"atchley\":\n",
    "        from embed.physicochemical import atchley\n",
    "        return atchley()\n",
    "        \n",
    "    elif method_name == \"kidera\":\n",
    "        from embed.physicochemical import kidera\n",
    "        return kidera()\n",
    "        \n",
    "    elif method_name == \"rand\":\n",
    "        from embed.physicochemical import rand\n",
    "        return rand()\n",
    "        \n",
    "    elif method_name == \"aaprop\":\n",
    "        from embed.physicochemical import aaprop\n",
    "        return aaprop()\n",
    "        \n",
    "    elif method_name == \"tcrbert\":\n",
    "        from embed.llm import tcrbert\n",
    "        return tcrbert()\n",
    "        \n",
    "    elif method_name == \"sceptr-tiny\":\n",
    "        from sceptr import variant\n",
    "        return variant.tiny()\n",
    "        \n",
    "    elif method_name == \"sceptr-default\":\n",
    "        from sceptr import variant\n",
    "        return variant.default()\n",
    "    \n",
    "    else:\n",
    "        raise ValueError(\"Cannot parse Method Name.\")\n",
    "\n",
    "def find_method(pth):\n",
    "    if \"autoencoder\" in pth.parent.name:\n",
    "        encoding_method_str = re.sub(r\"-autoencoder(-\\d*)?\", \"\", pth.parent.name)\n",
    "        encoding_method = method_name_to_func(encoding_method_str)\n",
    "        reduction_method = reducer.AutoEncoder(\n",
    "            encoding_method, encoding_method_str\n",
    "        )\n",
    "\n",
    "    elif \"johnson-lindenstarauss\" in pth.parent.name:\n",
    "        encoding_method_str = re.sub(r\"-johnson-lindenstarauss(-\\d*)?\", \"\", pth.parent.name)\n",
    "        encoding_method = method_name_to_func(encoding_method_str)\n",
    "        reduction_method = reducer.JohnsonLindenstarauss(\n",
    "            encoding_method.calc_vector_representations(\n",
    "                pd.read_csv(src / \"data/sample.tsv\", sep = \"\\t\", dtype = str)\n",
    "            ).shape[1]\n",
    "        )\n",
    "\n",
    "    elif \"no-reduction\" in pth.parent.name:\n",
    "        encoding_method_str = re.sub(r\"-no-reduction(-\\d*)?\", \"\", pth.parent.name)\n",
    "        encoding_method = method_name_to_func(encoding_method_str)\n",
    "        reduction_method = reducer.NoReduce()\n",
    "\n",
    "    else:\n",
    "        raise ValueError(\"Cannot parse method.\")\n",
    "    \n",
    "    return (encoding_method, reduction_method)\n",
    "\n",
    "def load_trained_model(model_encoding, model_reducer, best_epoch):\n",
    "    if isinstance(model_reducer, reducer.NoReduce):\n",
    "        model_trained = model.ordinary_classifier(model_encoding, use_cuda)\n",
    "    else:\n",
    "        model_trained = model.reduced_classifier(use_cuda)\n",
    "    \n",
    "    model_trained.load_state_dict(\n",
    "        torch.load(method_kf / f\"Epoch {best_epoch}/classifier.pth\")\n",
    "    )\n",
    "\n",
    "    for param in model_trained.parameters():\n",
    "        param.requires_grad = False\n",
    "    \n",
    "    return model_trained\n",
    "\n",
    "def get_result(pth_positive_file, model_encoding, model_reducer, model_trained):\n",
    "    df = pd.read_csv(src / pth_positive_file, sep=\"\\t\", dtype=str)\n",
    "\n",
    "    # Embedding File\n",
    "    tensor_embeddings = model_encoding.calc_vector_representations(df)\n",
    "    \n",
    "    # Reducing Dimensionality\n",
    "    tensor_embeddings = model_reducer.reduce(tensor_embeddings)\n",
    "    \n",
    "    # Tensoring\n",
    "    tensor_embeddings = torch.from_numpy(tensor_embeddings).to(torch.float32)\n",
    "    tensor_embeddings = tensor_embeddings.cuda() if torch.cuda.is_available() and use_cuda else tensor_embeddings\n",
    "    \n",
    "    # Creating Prediction\n",
    "    predicted_label = model_trained(tensor_embeddings)\n",
    "\n",
    "    # Non-Zero Weights\n",
    "    nonzero_idx = torch.nonzero(model_trained.last_weights)[:, 0]\n",
    "    ls_ws = model_trained.last_weights[nonzero_idx][:, 0].tolist()\n",
    "    df = df.iloc[nonzero_idx.tolist()]\n",
    "    df[\"assigned_weights\"] = ls_ws\n",
    "\n",
    "    return df, predicted_label\n",
    "\n",
    "def make_interpretability_dir():\n",
    "    try:\n",
    "        os.makedirs(method_kf / \"interpretability\")\n",
    "    except:\n",
    "        pass\n",
    "\n",
    "ls_method_kf_dirs = list((src / data_src).glob(\"**/kfold-*\"))\n",
    "\n",
    "for idx, method_kf in enumerate(ls_method_kf_dirs):\n",
    "    ls_positive = read_kfold_set(method_kf / \"pos0-kfold.txt\", 1)\n",
    "    ls_negative = read_kfold_set(method_kf / \"neg0-kfold.txt\", 0)\n",
    "    ls_kfs = ls_positive + ls_negative\n",
    "    best_epoch, best_epoch_auc = find_best_epoch(method_kf)\n",
    "    model_encoding, model_reducer = find_method(method_kf)\n",
    "    model_trained = load_trained_model(model_encoding, model_reducer, best_epoch)\n",
    "    make_interpretability_dir()\n",
    "    \n",
    "    if (method_kf / \"interpretability/results_log.csv\").exists() and (method_kf / \"interpretability/used_model.txt\").exists():\n",
    "        continue\n",
    "\n",
    "    df_repertoire_with_label = pd.DataFrame({\"filenames\": [], \"true\": [], \"prediction\": []})\n",
    "    for pth_file, label in tqdm(ls_kfs, \n",
    "                                desc = str(method_kf.relative_to(Path.cwd() / \"results\"))+f\"; Progress: {idx+1}/{len(ls_method_kf_dirs)}\"):\n",
    "        df, pred = get_result(pth_file, model_encoding, model_reducer, model_trained)\n",
    "        df_repertoire_with_label = pd.concat([\n",
    "            df_repertoire_with_label,\n",
    "            pd.DataFrame({\"filenames\": [pth_file], \"true\": [label], \"prediction\": [pred.item()]})\n",
    "        ])\n",
    "        df.to_parquet(\n",
    "            method_kf / \"interpretability\" / Path(pth_file).name.replace(\".tsv\", \".pq\")\n",
    "        )\n",
    "\n",
    "    df_repertoire_with_label.set_index(\"filenames\").to_csv(method_kf / \"interpretability/results_log.csv\")\n",
    "\n",
    "    with open(method_kf / \"interpretability/used_model.txt\", \"w\") as f:\n",
    "        f.write(f\"Used Epoch: {best_epoch} with AUC {best_epoch_auc}\")"
   ]
  }
 ],
 "metadata": {
  "kernelspec": {
   "display_name": "venv",
   "language": "python",
   "name": "python3"
  },
  "language_info": {
   "codemirror_mode": {
    "name": "ipython",
    "version": 3
   },
   "file_extension": ".py",
   "mimetype": "text/x-python",
   "name": "python",
   "nbconvert_exporter": "python",
   "pygments_lexer": "ipython3",
   "version": "3.11.7"
  }
 },
 "nbformat": 4,
 "nbformat_minor": 2
}
